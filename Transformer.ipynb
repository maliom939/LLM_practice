{
 "cells": [
  {
   "cell_type": "code",
   "execution_count": 1,
   "id": "e3c2c5a4",
   "metadata": {
    "colab": {
     "base_uri": "https://localhost:8080/"
    },
    "execution": {
     "iopub.execute_input": "2024-06-06T22:55:19.457232Z",
     "iopub.status.busy": "2024-06-06T22:55:19.456346Z",
     "iopub.status.idle": "2024-06-06T22:55:31.717195Z",
     "shell.execute_reply": "2024-06-06T22:55:31.715989Z",
     "shell.execute_reply.started": "2024-06-06T22:55:19.457196Z"
    },
    "id": "8b6bbb42",
    "outputId": "695b8633-b242-46b3-f867-8fdba86841b9"
   },
   "outputs": [],
   "source": [
    "# Make sure you have the following packages installed:\n",
    "!pip install spacy torchtext portalocker --quiet"
   ]
  },
  {
   "cell_type": "code",
   "execution_count": 2,
   "id": "50ed91a0",
   "metadata": {
    "colab": {
     "base_uri": "https://localhost:8080/"
    },
    "execution": {
     "iopub.execute_input": "2024-06-06T22:55:31.719598Z",
     "iopub.status.busy": "2024-06-06T22:55:31.719294Z",
     "iopub.status.idle": "2024-06-06T22:55:43.813571Z",
     "shell.execute_reply": "2024-06-06T22:55:43.812237Z",
     "shell.execute_reply.started": "2024-06-06T22:55:31.719571Z"
    },
    "id": "Yo2L3j5xO-7r",
    "outputId": "7a4dad6c-1fdb-4976-dbea-96e2348cf8b0"
   },
   "outputs": [
    {
     "name": "stdout",
     "output_type": "stream",
     "text": [
      "Requirement already satisfied: torchdata in /opt/conda/lib/python3.10/site-packages (0.7.1)\n",
      "Requirement already satisfied: urllib3>=1.25 in /opt/conda/lib/python3.10/site-packages (from torchdata) (1.26.18)\n",
      "Requirement already satisfied: requests in /opt/conda/lib/python3.10/site-packages (from torchdata) (2.32.3)\n",
      "Requirement already satisfied: torch>=2 in /opt/conda/lib/python3.10/site-packages (from torchdata) (2.1.2)\n",
      "Requirement already satisfied: filelock in /opt/conda/lib/python3.10/site-packages (from torch>=2->torchdata) (3.13.1)\n",
      "Requirement already satisfied: typing-extensions in /opt/conda/lib/python3.10/site-packages (from torch>=2->torchdata) (4.9.0)\n",
      "Requirement already satisfied: sympy in /opt/conda/lib/python3.10/site-packages (from torch>=2->torchdata) (1.12.1)\n",
      "Requirement already satisfied: networkx in /opt/conda/lib/python3.10/site-packages (from torch>=2->torchdata) (3.2.1)\n",
      "Requirement already satisfied: jinja2 in /opt/conda/lib/python3.10/site-packages (from torch>=2->torchdata) (3.1.2)\n",
      "Requirement already satisfied: fsspec in /opt/conda/lib/python3.10/site-packages (from torch>=2->torchdata) (2024.3.1)\n",
      "Requirement already satisfied: charset-normalizer<4,>=2 in /opt/conda/lib/python3.10/site-packages (from requests->torchdata) (3.3.2)\n",
      "Requirement already satisfied: idna<4,>=2.5 in /opt/conda/lib/python3.10/site-packages (from requests->torchdata) (3.6)\n",
      "Requirement already satisfied: certifi>=2017.4.17 in /opt/conda/lib/python3.10/site-packages (from requests->torchdata) (2024.2.2)\n",
      "Requirement already satisfied: MarkupSafe>=2.0 in /opt/conda/lib/python3.10/site-packages (from jinja2->torch>=2->torchdata) (2.1.3)\n",
      "Requirement already satisfied: mpmath<1.4.0,>=1.1.0 in /opt/conda/lib/python3.10/site-packages (from sympy->torch>=2->torchdata) (1.3.0)\n"
     ]
    }
   ],
   "source": [
    "!pip install torchdata"
   ]
  },
  {
   "cell_type": "code",
   "execution_count": 27,
   "id": "d59f3abc",
   "metadata": {
    "colab": {
     "base_uri": "https://localhost:8080/"
    },
    "execution": {
     "iopub.execute_input": "2024-06-06T23:29:23.481747Z",
     "iopub.status.busy": "2024-06-06T23:29:23.481359Z",
     "iopub.status.idle": "2024-06-06T23:29:23.487974Z",
     "shell.execute_reply": "2024-06-06T23:29:23.486651Z",
     "shell.execute_reply.started": "2024-06-06T23:29:23.481712Z"
    },
    "id": "62a5dee5",
    "outputId": "0a17e5e2-fbbf-47d3-d984-b6cc12a195dd"
   },
   "outputs": [],
   "source": [
    "import torch\n",
    "import torch.nn as nn\n",
    "import torch.optim as optim\n",
    "import math\n",
    "import spacy\n",
    "import os\n",
    "import matplotlib.pyplot as plt\n",
    "\n",
    "from torchtext.data.utils import get_tokenizer\n",
    "from torchtext.vocab import build_vocab_from_iterator\n",
    "from torchtext.datasets import Multi30k\n",
    "from torch.nn.utils.rnn import pad_sequence\n",
    "from torch.utils.data import DataLoader"
   ]
  },
  {
   "cell_type": "code",
   "execution_count": 5,
   "id": "efd98e73",
   "metadata": {
    "colab": {
     "base_uri": "https://localhost:8080/"
    },
    "execution": {
     "iopub.execute_input": "2024-06-06T22:56:08.914754Z",
     "iopub.status.busy": "2024-06-06T22:56:08.914378Z",
     "iopub.status.idle": "2024-06-06T22:56:08.923535Z",
     "shell.execute_reply": "2024-06-06T22:56:08.922649Z",
     "shell.execute_reply.started": "2024-06-06T22:56:08.914727Z"
    },
    "id": "b17027ed",
    "outputId": "210b5634-ddea-435b-9675-6c80c2b3b598"
   },
   "outputs": [
    {
     "data": {
      "text/plain": [
       "device(type='cuda')"
      ]
     },
     "execution_count": 5,
     "metadata": {},
     "output_type": "execute_result"
    }
   ],
   "source": [
    "torch.manual_seed(42)  # For reproducibility\n",
    "device = torch.device('cuda' if torch.cuda.is_available() else 'cpu')\n",
    "device"
   ]
  },
  {
   "cell_type": "markdown",
   "id": "ead278e2",
   "metadata": {
    "id": "ffad93f9"
   },
   "source": [
    "### Multi-Head Attention\n",
    "\n",
    "$$\n",
    "    \\text{MultiHead}(Q, K, V) = \\text{Concat}(\\text{head}_1, \\ldots, \\text{head}_h)W^O \\\\\n",
    "    \\text{head}_i = \\text{Attention}(QW_i^Q, KW_i^K, VW_i^V) \\\\  \n",
    "    \\text{Attention}(Q, K, V) = \\text{softmax}\\left(\\frac{QK^T}{\\sqrt{d_k}}\\right)V\n",
    "$$"
   ]
  },
  {
   "cell_type": "code",
   "execution_count": 6,
   "id": "c3885a4f",
   "metadata": {
    "execution": {
     "iopub.execute_input": "2024-06-06T22:56:16.246857Z",
     "iopub.status.busy": "2024-06-06T22:56:16.246132Z",
     "iopub.status.idle": "2024-06-06T22:56:16.259842Z",
     "shell.execute_reply": "2024-06-06T22:56:16.258884Z",
     "shell.execute_reply.started": "2024-06-06T22:56:16.246827Z"
    },
    "id": "bf156177"
   },
   "outputs": [],
   "source": [
    "class MultiHeadAttention(nn.Module):\n",
    "    \"\"\"The multi-head attention module\"\"\"\n",
    "    def __init__(self, d_model, num_heads):\n",
    "        super().__init__()\n",
    "\n",
    "        # Ensure the dimension of the model is divisible by the number of heads.\n",
    "        # This is necessary to equally divide the embedding dimension across heads.\n",
    "        assert d_model % num_heads == 0, 'd_model must be divisible by num_heads'\n",
    "\n",
    "        self.d_model = d_model           # Total dimension of the model\n",
    "        self.num_heads = num_heads       # Number of attention heads\n",
    "        self.d_k = d_model // num_heads  # Dimnsion of each head. We assume d_v = d_k\n",
    "\n",
    "        # Linear transformations for queries, keys, and values\n",
    "        self.W_q = nn.Linear(d_model, d_model)\n",
    "        self.W_k = nn.Linear(d_model, d_model)\n",
    "        self.W_v = nn.Linear(d_model, d_model)\n",
    "\n",
    "        # Final linear layer to project the concatenated heads' outputs back to d_model dimensions\n",
    "        self.W_o = nn.Linear(d_model, d_model)\n",
    "\n",
    "    def scaled_dot_product_attention(self, Q, K, V, mask=None):\n",
    "        ### WRITE YOUR CODE HERE\n",
    "\n",
    "        d_k = Q.shape[-1]\n",
    "        \n",
    "        # 1. Calculate attention scores with scaling.\n",
    "        attention_scores = torch.matmul(Q , K.transpose(-2, -1)) / math.sqrt(d_k)\n",
    "        \n",
    "        # 2. Apply mask (if provided) by setting masked positions to a large negative value.\n",
    "        if mask is not None:\n",
    "          attention_scores = attention_scores.masked_fill_(mask == 0, -1e9)\n",
    "        \n",
    "        # 3. Apply softmax to attention scores to get probabilities.\n",
    "        attention_weights = torch.softmax(attention_scores, dim = -1)\n",
    "        \n",
    "        # 4. Return the weighted sum of values based on attention probabilities.\n",
    "        output = torch.matmul(attention_weights, V)\n",
    "        return output, attention_weights\n",
    "\n",
    "    def split_heads(self, x):\n",
    "        # Reshape the input tensor to [batch_size, num_heads, seq_length, d_k]\n",
    "        # to prepare for multi-head attention processing\n",
    "        batch_size, seq_length, d_model = x.size()\n",
    "        return x.view(batch_size, seq_length, self.num_heads, self.d_k).transpose(1, 2)\n",
    "\n",
    "    def combine_heads(self, x):\n",
    "        # Inverse operation of split_heads: combine the head outputs back into the original tensor shape\n",
    "        # [batch_size, seq_length, d_model]\n",
    "        batch_size, num_heads, seq_length, d_k = x.size()\n",
    "        return x.transpose(1, 2).contiguous().view(batch_size, seq_length, self.d_model)\n",
    "\n",
    "    def forward(self, Q, K, V, mask=None):\n",
    "        ### WRITE YOUR CODE HERE\n",
    "        \n",
    "        # 1. Linearly project the queries, keys, and values, and then split them into heads.\n",
    "        # [batch_size, seq_length, d_model] -> [batch_size, seq_length, d_model] -> [batch_size, seq_length, num_heads, d_k] -> [batch_size, num_heads, seq_length, d_k]\n",
    "        query = self.split_heads(self.W_q(Q))\n",
    "        key = self.split_heads(self.W_k(K))\n",
    "        value = self.split_heads(self.W_v(V))\n",
    "        \n",
    "        # 2. Apply scaled dot-product attention for each head.\n",
    "        # [batch_size, num_heads, seq_length, d_k] --> [batch_size, num_heads, seq_length, seq_length] --> [batch_size, num_heads, seq_length, d_k]\n",
    "        x, attention = self.scaled_dot_product_attention(query, key, value, mask)\n",
    "\n",
    "        # 3. Concatenate the heads' outputs and apply the final linear projection.\n",
    "        # [batch_size, num_heads, seq_length, d_k] --> [batch_size, seq_length, d_model]\n",
    "        x = self.combine_heads(x)\n",
    "        output = self.W_o(x)\n",
    "\n",
    "        return output"
   ]
  },
  {
   "cell_type": "markdown",
   "id": "f5cbaaac",
   "metadata": {
    "id": "70b13867"
   },
   "source": [
    "### Feed-Forward NN\n",
    "\n",
    "$$\n",
    "    \\text{FFN}(x) = \\max(0, xW_1 + b_1)W_2 + b_2\n",
    "$$"
   ]
  },
  {
   "cell_type": "code",
   "execution_count": 7,
   "id": "75947eff",
   "metadata": {
    "execution": {
     "iopub.execute_input": "2024-06-06T22:56:16.783470Z",
     "iopub.status.busy": "2024-06-06T22:56:16.782779Z",
     "iopub.status.idle": "2024-06-06T22:56:16.789816Z",
     "shell.execute_reply": "2024-06-06T22:56:16.788882Z",
     "shell.execute_reply.started": "2024-06-06T22:56:16.783439Z"
    },
    "id": "5d5ab551"
   },
   "outputs": [],
   "source": [
    "class PositionwiseFeedForward(nn.Module):\n",
    "    \"\"\"The Positionwise Feedforward Network (FFN) module\"\"\"\n",
    "    def __init__(self, d_model, d_ff, dropout=0.1):\n",
    "        super().__init__()\n",
    "        self.linear1 = nn.Linear(d_model, d_ff)\n",
    "        self.linear2 = nn.Linear(d_ff, d_model)\n",
    "        self.dropout = nn.Dropout(dropout)\n",
    "        self.relu = nn.ReLU()\n",
    "\n",
    "    def forward(self, x):\n",
    "        ### WRITE YOUR CODE HERE\n",
    "        # [batch_size, seq_length, d_model] --> [batch_size, seq_length, d_ff] --> [batch_size, seq_length, d_model]\n",
    "       return self.linear2(self.dropout(self.relu(self.linear1(x))))"
   ]
  },
  {
   "cell_type": "markdown",
   "id": "2a7153ec",
   "metadata": {
    "id": "4034ef0a"
   },
   "source": [
    "### Positional Encoding\n",
    "\n",
    "$$\n",
    "    \\text{PE}(pos, 2i) = \\sin(pos/10000^{2i/d_{\\text{model}}}) \\\\\n",
    "    \\text{PE}(pos, 2i + 1) = \\cos(pos/10000^{2i/d_{\\text{model}}})\n",
    "$$"
   ]
  },
  {
   "cell_type": "code",
   "execution_count": 8,
   "id": "22211f82",
   "metadata": {
    "execution": {
     "iopub.execute_input": "2024-06-06T22:56:17.217886Z",
     "iopub.status.busy": "2024-06-06T22:56:17.217576Z",
     "iopub.status.idle": "2024-06-06T22:56:17.227047Z",
     "shell.execute_reply": "2024-06-06T22:56:17.226053Z",
     "shell.execute_reply.started": "2024-06-06T22:56:17.217860Z"
    },
    "id": "bfca835c"
   },
   "outputs": [],
   "source": [
    "class PositionalEncoding(nn.Module):\n",
    "    \"\"\"\n",
    "    Implements the positional encoding module using sinusoidal functions of different frequencies\n",
    "    for each dimension of the encoding.\n",
    "    \"\"\"\n",
    "    def __init__(self, d_model, max_seq_length):\n",
    "        super().__init__()\n",
    "\n",
    "        # Create a positional encoding (PE) matrix with dimensions [max_seq_length, d_model].\n",
    "        # This matrix will contain the positional encodings for all possible positions up to max_seq_length.\n",
    "        pe = torch.zeros(max_seq_length, d_model)\n",
    "\n",
    "        # Generate a tensor of positions (0 to max_seq_length - 1) and reshape it to [max_seq_length, 1].\n",
    "        position = torch.arange(0, max_seq_length, dtype=torch.float).unsqueeze(1)\n",
    "\n",
    "        # Compute the division term used in the formulas for sin and cos functions.\n",
    "        # This term is based on the dimension of the model and the position, ensuring that the wavelengths\n",
    "        # form a geometric progression from 2π to 10000 * 2π. It uses only even indices for the dimensions.\n",
    "        div_term = torch.exp(torch.arange(0, d_model, 2).float() * (-math.log(10000.0) / d_model))\n",
    "\n",
    "        # Apply the sin function to even indices in the PE matrix. These values are determined by\n",
    "        # multiplying the position by the division term, creating a pattern where each position has\n",
    "        # a unique sinusoidal encoding.\n",
    "        pe[:, 0::2] = torch.sin(position * div_term)\n",
    "\n",
    "        # Apply the cos function to odd indices in the PE matrix, complementing the sin-encoded positions.\n",
    "        pe[:, 1::2] = torch.cos(position * div_term)\n",
    "\n",
    "        # Register 'pe' as a buffer within the module. Unlike parameters, buffers are not updated during training.\n",
    "        # This is crucial because positional encodings are fixed and not subject to training updates.\n",
    "        # The unsqueeze(0) adds a batch dimension for easier broadcasting with input tensors.\n",
    "        self.register_buffer('pe', pe.unsqueeze(0))\n",
    "\n",
    "    def forward(self, x):\n",
    "        # Add positional encoding to the input tensor x.\n",
    "        # x is expected to have dimensions [batch_size, seq_length, d_model].\n",
    "        # The positional encoding 'pe' is sliced to match the seq_length of 'x', and then added to 'x'.\n",
    "        # This operation leverages broadcasting to apply the same positional encoding across the batch.\n",
    "        x = x + self.pe[:, :x.size(1)]\n",
    "        return x"
   ]
  },
  {
   "cell_type": "markdown",
   "id": "5a2a5e32",
   "metadata": {
    "id": "96e2475b"
   },
   "source": [
    "### Encoder Layer"
   ]
  },
  {
   "cell_type": "code",
   "execution_count": 9,
   "id": "a99311dc",
   "metadata": {
    "execution": {
     "iopub.execute_input": "2024-06-06T22:56:17.761475Z",
     "iopub.status.busy": "2024-06-06T22:56:17.761064Z",
     "iopub.status.idle": "2024-06-06T22:56:17.768829Z",
     "shell.execute_reply": "2024-06-06T22:56:17.767903Z",
     "shell.execute_reply.started": "2024-06-06T22:56:17.761444Z"
    },
    "id": "000313c6"
   },
   "outputs": [],
   "source": [
    "class EncoderLayer(nn.Module):\n",
    "    \"\"\"An encoder layer consists of a multi-head self-attention sublayer and a feed forward sublayer,\n",
    "       with a dropout, residual connection, and layer normalization after each sub-layer.\n",
    "    \"\"\"\n",
    "    def __init__(self, d_model, num_heads, d_ff, dropout):\n",
    "        super().__init__()\n",
    "        self.self_attn = MultiHeadAttention(d_model, num_heads)\n",
    "        self.feed_forward = PositionwiseFeedForward(d_model, d_ff, dropout)\n",
    "        self.layer_norm1 = nn.LayerNorm(d_model)\n",
    "        self.layer_norm2 = nn.LayerNorm(d_model)\n",
    "        self.dropout = nn.Dropout(dropout)\n",
    "\n",
    "    def forward(self, x, mask):\n",
    "        ### WRITE YOUR CODE HERE\n",
    "        self_attention_output = self.self_attn(x, x, x, mask)\n",
    "        x = self.layer_norm1(x + self.dropout(self_attention_output))\n",
    "\n",
    "        feed_forward_output = self.feed_forward(x)\n",
    "        x = self.layer_norm2(x + self.dropout(feed_forward_output))\n",
    "\n",
    "        return x\n"
   ]
  },
  {
   "cell_type": "markdown",
   "id": "9c1c3edc",
   "metadata": {
    "id": "76215e02"
   },
   "source": [
    "### Decoder Layer"
   ]
  },
  {
   "cell_type": "code",
   "execution_count": 10,
   "id": "725c3bb6",
   "metadata": {
    "execution": {
     "iopub.execute_input": "2024-06-06T22:56:18.242545Z",
     "iopub.status.busy": "2024-06-06T22:56:18.241964Z",
     "iopub.status.idle": "2024-06-06T22:56:18.251588Z",
     "shell.execute_reply": "2024-06-06T22:56:18.250636Z",
     "shell.execute_reply.started": "2024-06-06T22:56:18.242517Z"
    },
    "id": "ee27007e"
   },
   "outputs": [],
   "source": [
    "class DecoderLayer(nn.Module):\n",
    "    \"\"\"A decoder layer consists of a multi-head self-attention, cross-attention and a feed-forward sublayers,\n",
    "       with a dropout, residual connection, and layer normalization after each sub-layer.\n",
    "    \"\"\"\n",
    "    def __init__(self, d_model, num_heads, d_ff, dropout):\n",
    "        super().__init__()\n",
    "        self.self_attn = MultiHeadAttention(d_model, num_heads)\n",
    "        self.cross_attn = MultiHeadAttention(d_model, num_heads)\n",
    "        self.feed_forward = PositionwiseFeedForward(d_model, d_ff, dropout)\n",
    "        self.layer_norm1 = nn.LayerNorm(d_model)\n",
    "        self.layer_norm2 = nn.LayerNorm(d_model)\n",
    "        self.layer_norm3 = nn.LayerNorm(d_model)\n",
    "        self.dropout = nn.Dropout(dropout)\n",
    "\n",
    "    def forward(self, x, enc_output, src_mask, tgt_mask):\n",
    "        ### WRITE YOUR CODE HERE\n",
    "        self_attention_output = self.self_attn(x, x, x, tgt_mask)\n",
    "        x = self.layer_norm1(x + self.dropout(self_attention_output))\n",
    "\n",
    "        cross_attention_output = self.cross_attn(x, enc_output, enc_output, src_mask)\n",
    "        x = self.layer_norm2(x + self.dropout(cross_attention_output))\n",
    "\n",
    "        feed_forward_output = self.feed_forward(x)\n",
    "        x = self.layer_norm3(x + self.dropout(feed_forward_output))\n",
    "\n",
    "        return x\n"
   ]
  },
  {
   "cell_type": "markdown",
   "id": "e6431710",
   "metadata": {
    "id": "2ad86614"
   },
   "source": [
    "### The Full Model"
   ]
  },
  {
   "cell_type": "code",
   "execution_count": 11,
   "id": "05a8100a",
   "metadata": {
    "execution": {
     "iopub.execute_input": "2024-06-06T22:56:18.722712Z",
     "iopub.status.busy": "2024-06-06T22:56:18.722322Z",
     "iopub.status.idle": "2024-06-06T22:56:18.741060Z",
     "shell.execute_reply": "2024-06-06T22:56:18.740049Z",
     "shell.execute_reply.started": "2024-06-06T22:56:18.722685Z"
    },
    "id": "31af1f2a"
   },
   "outputs": [],
   "source": [
    "class Transformer(nn.Module):\n",
    "    \"\"\"\n",
    "    Implements the Transformer model for sequence-to-sequence tasks such as machine translation.\n",
    "    The Transformer model, as described in \"Attention is All You Need\" by Vaswani et al., consists of an encoder and\n",
    "    decoder architecture that uses self-attention mechanisms to process input sequences and generate output sequences.\n",
    "\n",
    "    Parameters:\n",
    "    - src_vocab_size (int): Size of the source vocabulary.\n",
    "    - tgt_vocab_size (int): Size of the target vocabulary.\n",
    "    - d_model (int): Dimension of the model embeddings and hidden states.\n",
    "    - N (int): Number of layers in both the encoder and decoder stacks.\n",
    "    - n_heads (int): Number of attention heads in each multi-head attention mechanism.\n",
    "    - d_ff (int): Dimension of the feed-forward network within each layer.\n",
    "    - max_seq_length (int): Maximum length of input sequences, used for positional encoding.\n",
    "    - dropout (float): Dropout rate applied to embeddings and sub-layers.\n",
    "    - pad_idx (int): Index of the padding token in the source and target vocabularies.\n",
    "\n",
    "    Attributes:\n",
    "    - src_embedding (torch.nn.Embedding): Embedding layer for source sequences.\n",
    "    - tgt_embedding (torch.nn.Embedding): Embedding layer for target sequences.\n",
    "    - positional_encoding (PositionalEncoding): Adds positional information to embeddings.\n",
    "    - encoder (torch.nn.ModuleList): Stack of N encoder layers.\n",
    "    - decoder (torch.nn.ModuleList): Stack of N decoder layers.\n",
    "    - out (torch.nn.Linear): Linear layer that projects decoder output to target vocabulary size.\n",
    "    - dropout (torch.nn.Dropout): Dropout layer applied after embedding and positional encoding.\n",
    "\n",
    "    Methods:\n",
    "    - init_weights: Initializes model parameters using Glorot uniform initialization.\n",
    "    - create_source_mask: Creates a mask for padding tokens in the source sequence to ignore them in attention computations.\n",
    "    - create_target_mask: Creates combined padding and future token masks for the target sequence to prevent attending to future tokens and padding tokens.\n",
    "    - encode: Processes the source sequence through the encoder stack and generates memory states.\n",
    "    - decode: Processes the target sequence through the decoder stack using memory states from the encoder and applicable masks.\n",
    "    - forward: Defines the forward pass of the model using the encode and decode methods.\n",
    "    \"\"\"\n",
    "    def __init__(self, src_vocab_size, tgt_vocab_size, d_model, N, n_heads, d_ff, max_seq_length, dropout, pad_idx):\n",
    "        super().__init__()\n",
    "\n",
    "        # Embedding layers for source and target\n",
    "        self.src_embedding = nn.Embedding(src_vocab_size, d_model)\n",
    "        self.tgt_embedding = nn.Embedding(tgt_vocab_size, d_model)\n",
    "\n",
    "        # Positional encoding\n",
    "        self.positional_encoding = PositionalEncoding(d_model, max_seq_length)\n",
    "\n",
    "        # Encoder and Decoder stacks\n",
    "        self.encoder = nn.ModuleList([EncoderLayer(d_model, num_heads, d_ff, dropout) for _ in range(N)])\n",
    "        self.decoder = nn.ModuleList([DecoderLayer(d_model, num_heads, d_ff, dropout) for _ in range(N)])\n",
    "\n",
    "        # Output linear layer\n",
    "        self.out = nn.Linear(d_model, tgt_vocab_size)\n",
    "\n",
    "        self.dropout = nn.Dropout(dropout)\n",
    "\n",
    "        # Initialization\n",
    "        self.init_weights()\n",
    "        self.pad_idx = pad_idx\n",
    "\n",
    "    def init_weights(self):\n",
    "        \"\"\"Initialize parameters with Glorot / fan_avg\"\"\"\n",
    "        for p in self.parameters():\n",
    "            if p.dim() > 1:\n",
    "                nn.init.xavier_uniform_(p)\n",
    "\n",
    "    def create_source_mask(self, src):\n",
    "        \"\"\"Create a mask for padding tokens in the source\"\"\"\n",
    "        src_mask = (src != self.pad_idx).unsqueeze(1).unsqueeze(2)  # [batch_size, 1, 1, src_len]\n",
    "        # unsqueeze(1) adds a dimension for the heads of the multi-head attention\n",
    "        # unsqueeze(2) adds a dimension for the attention scores\n",
    "        # This mask can be broadcasted across the src_len dimension of the attention scores,\n",
    "        # effectively masking out specific tokens across all heads and all positions in the sequence.\n",
    "        return src_mask\n",
    "\n",
    "    def create_target_mask(self, tgt):\n",
    "        \"\"\"Create masks for both padding tokens and future tokens\"\"\"\n",
    "        # Target padding mask\n",
    "        tgt_pad_mask = (tgt != self.pad_idx).unsqueeze(1).unsqueeze(3)  # [batch_size, 1, tgt_len, 1]\n",
    "        # unsqueeze(1) adds a dimension for the heads of the multi-head attention\n",
    "        # unsqueeze(3) adds a dimension for the attention scores\n",
    "        # The final shape allows the mask to be broadcast across the attention scores, ensuring positions only\n",
    "        # attend to allowed positions as dictated by the no-peak mask (the preceding positions) and the padding mask.\n",
    "\n",
    "        # Target no-peak mask\n",
    "        tgt_len = tgt.size(1)\n",
    "        tgt_nopeak_mask = torch.tril(torch.ones(tgt_len, tgt_len, device=device)).bool()\n",
    "\n",
    "        # Combine masks\n",
    "        tgt_mask = tgt_pad_mask & tgt_nopeak_mask  # [batch_size, 1, tgt_len, tgt_len]\n",
    "        return tgt_mask\n",
    "\n",
    "    def encode(self, src):\n",
    "        \"\"\"Encodes the source sequence using the Transformer encoder stack.\n",
    "        \"\"\"\n",
    "        src_mask = self.create_source_mask(src)\n",
    "        src = self.dropout(self.positional_encoding(self.src_embedding(src)))\n",
    "\n",
    "        # Pass through each layer in the encoder\n",
    "        for layer in self.encoder:\n",
    "            src = layer(src, src_mask)\n",
    "        return src, src_mask\n",
    "\n",
    "    def decode(self, tgt, memory, src_mask):\n",
    "        \"\"\"Decodes the target sequence using the Transformer decoder stack, given the memory from the encoder.\n",
    "        \"\"\"\n",
    "        tgt_mask = self.create_target_mask(tgt)\n",
    "        tgt = self.dropout(self.positional_encoding(self.tgt_embedding(tgt)))\n",
    "\n",
    "        # Pass through each layer in the decoder\n",
    "        for layer in self.decoder:\n",
    "            tgt = layer(tgt, memory, src_mask, tgt_mask)\n",
    "\n",
    "        # Output layer\n",
    "        output = self.out(tgt)\n",
    "        return output\n",
    "\n",
    "    def forward(self, src, tgt):\n",
    "        ### WRITE YOUR CODE HERE\n",
    "        src, src_mask = self.encode(src)\n",
    "        output = self.decode(tgt, src, src_mask)\n",
    "        return torch.log_softmax(output, dim = -1)"
   ]
  },
  {
   "cell_type": "code",
   "execution_count": 12,
   "id": "298b6791",
   "metadata": {
    "execution": {
     "iopub.execute_input": "2024-06-06T22:56:18.939250Z",
     "iopub.status.busy": "2024-06-06T22:56:18.938803Z",
     "iopub.status.idle": "2024-06-06T22:56:20.091842Z",
     "shell.execute_reply": "2024-06-06T22:56:20.091046Z",
     "shell.execute_reply.started": "2024-06-06T22:56:18.939201Z"
    },
    "id": "11a3b60d"
   },
   "outputs": [],
   "source": [
    "# Define the hyperparameters of the model\n",
    "src_vocab_size = 5000  # Size of source vocabulary\n",
    "tgt_vocab_size = 5000  # Size of target vocabulary\n",
    "d_model = 512          # Embedding dimension\n",
    "N = 6                  # Number of encoder and decoder layers\n",
    "num_heads = 8          # Number of attention heads\n",
    "d_ff = 2048            # Dimension of feed forward networks\n",
    "max_seq_length = 100   # Maximum sequence length\n",
    "dropout = 0.1          # Dropout rate\n",
    "pad_idx = 0            # Index of the padding token\n",
    "\n",
    "model = Transformer(src_vocab_size, tgt_vocab_size, d_model, N, num_heads, d_ff, max_seq_length, dropout, pad_idx)\n",
    "\n",
    "# Move the model to the appropriate device (GPU or CPU)\n",
    "model = model.to(device)"
   ]
  },
  {
   "cell_type": "markdown",
   "id": "f0b9007b",
   "metadata": {
    "id": "050f7248"
   },
   "source": [
    "### Testing on Random Data"
   ]
  },
  {
   "cell_type": "code",
   "execution_count": 13,
   "id": "cdc37488",
   "metadata": {
    "execution": {
     "iopub.execute_input": "2024-06-06T22:56:20.780080Z",
     "iopub.status.busy": "2024-06-06T22:56:20.779314Z",
     "iopub.status.idle": "2024-06-06T22:56:20.785708Z",
     "shell.execute_reply": "2024-06-06T22:56:20.784696Z",
     "shell.execute_reply.started": "2024-06-06T22:56:20.780044Z"
    },
    "id": "149dadd1"
   },
   "outputs": [],
   "source": [
    "# Generate random sample data\n",
    "torch.manual_seed(42)\n",
    "\n",
    "src_data = torch.randint(1, src_vocab_size, (64, max_seq_length)).to(device)  # (batch_size, seq_length)\n",
    "tgt_data = torch.randint(1, tgt_vocab_size, (64, max_seq_length)).to(device)  # (batch_size, seq_length)"
   ]
  },
  {
   "cell_type": "markdown",
   "id": "fae6c61d",
   "metadata": {
    "id": "2d5b1c56"
   },
   "source": [
    "#### Inference"
   ]
  },
  {
   "cell_type": "code",
   "execution_count": 14,
   "id": "51fcccdf",
   "metadata": {
    "colab": {
     "base_uri": "https://localhost:8080/"
    },
    "execution": {
     "iopub.execute_input": "2024-06-06T22:56:23.559013Z",
     "iopub.status.busy": "2024-06-06T22:56:23.557840Z",
     "iopub.status.idle": "2024-06-06T22:56:24.097929Z",
     "shell.execute_reply": "2024-06-06T22:56:24.096933Z",
     "shell.execute_reply.started": "2024-06-06T22:56:23.558954Z"
    },
    "id": "45583975",
    "outputId": "0c93e686-a9ae-4c33-a54a-a2dcf3da239a"
   },
   "outputs": [
    {
     "data": {
      "text/plain": [
       "tensor([990], device='cuda:0')"
      ]
     },
     "execution_count": 14,
     "metadata": {},
     "output_type": "execute_result"
    }
   ],
   "source": [
    "# Generate the next token using the first token in the first target tensor\n",
    "model.eval()\n",
    "\n",
    "memory, src_mask = model.encode(src_data[:1, :])\n",
    "output = model.decode(tgt_data[:1, :1], memory, src_mask)\n",
    "y = output.view(-1, tgt_vocab_size).argmax(-1)\n",
    "y"
   ]
  },
  {
   "cell_type": "markdown",
   "id": "88c7d417",
   "metadata": {
    "id": "18b7e1c5"
   },
   "source": [
    "If your code is correct, you should get tensor([990])."
   ]
  },
  {
   "cell_type": "markdown",
   "id": "d84a50e2",
   "metadata": {
    "id": "a314148e"
   },
   "source": [
    "#### Training"
   ]
  },
  {
   "cell_type": "code",
   "execution_count": 15,
   "id": "ed7b28a5",
   "metadata": {
    "colab": {
     "base_uri": "https://localhost:8080/"
    },
    "execution": {
     "iopub.execute_input": "2024-06-06T22:56:46.447085Z",
     "iopub.status.busy": "2024-06-06T22:56:46.446213Z",
     "iopub.status.idle": "2024-06-06T22:56:53.039819Z",
     "shell.execute_reply": "2024-06-06T22:56:53.038852Z",
     "shell.execute_reply.started": "2024-06-06T22:56:46.447050Z"
    },
    "id": "2afd8ff3",
    "outputId": "2c649706-8d00-4213-ead1-9e7448e93b83"
   },
   "outputs": [
    {
     "name": "stdout",
     "output_type": "stream",
     "text": [
      "Epoch: 1, Loss: 8.605189323425293\n",
      "Epoch: 2, Loss: 8.501506805419922\n",
      "Epoch: 3, Loss: 8.371408462524414\n",
      "Epoch: 4, Loss: 8.29694652557373\n",
      "Epoch: 5, Loss: 8.238503456115723\n",
      "Epoch: 6, Loss: 8.19219970703125\n",
      "Epoch: 7, Loss: 8.164860725402832\n",
      "Epoch: 8, Loss: 8.142218589782715\n",
      "Epoch: 9, Loss: 8.130304336547852\n",
      "Epoch: 10, Loss: 8.121999740600586\n"
     ]
    }
   ],
   "source": [
    "# Train the model for 10 epochs\n",
    "criterion = nn.CrossEntropyLoss(ignore_index=pad_idx)\n",
    "optimizer = optim.Adam(model.parameters(), lr=0.0005, betas=(0.9, 0.98), eps=1e-9)\n",
    "grad_clip = 1\n",
    "n_epochs = 10\n",
    "\n",
    "model.train()\n",
    "\n",
    "for epoch in range(n_epochs):\n",
    "    optimizer.zero_grad()\n",
    "\n",
    "    # Forward pass\n",
    "    output = model(src_data, tgt_data[:, :-1])\n",
    "\n",
    "    # tgt_data is of shape [batch_size, tgt_len]\n",
    "    # output is of shape [batch_size, tgt_len, tgt_vocab_size]\n",
    "    output = output.contiguous().view(-1, tgt_vocab_size)\n",
    "    tgt = tgt_data[:, 1:].contiguous().view(-1)\n",
    "    loss = criterion(output, tgt)\n",
    "\n",
    "    loss.backward()\n",
    "    nn.utils.clip_grad_norm_(model.parameters(), grad_clip)\n",
    "    optimizer.step()\n",
    "    print(f'Epoch: {epoch + 1}, Loss: {loss.item()}')"
   ]
  },
  {
   "cell_type": "markdown",
   "id": "60445933",
   "metadata": {
    "id": "42f36f48"
   },
   "source": [
    "You should see the loss decreasing from around 8.6 to 8.1."
   ]
  },
  {
   "cell_type": "markdown",
   "id": "fd106918",
   "metadata": {
    "id": "71caa7ed"
   },
   "source": [
    "### Machine Translation Example\n",
    "\n",
    "We now consider a real-world example using the Multi30k German-English translation task. This task is much smaller than the WMT task considered in the paper (only 30K sentence pairs compared to 4.5M pairs in the WMT-14 English-German dataset), but it illustrates the whole system. <br>\n",
    "It is recommended to run this example on Google Colab, or on a machine with a strong GPU."
   ]
  },
  {
   "cell_type": "markdown",
   "id": "162bc69b",
   "metadata": {
    "id": "3d6ecd8c"
   },
   "source": [
    "#### Define Tokenizers"
   ]
  },
  {
   "cell_type": "code",
   "execution_count": 16,
   "id": "55a388bb",
   "metadata": {
    "execution": {
     "iopub.execute_input": "2024-06-06T22:56:53.551720Z",
     "iopub.status.busy": "2024-06-06T22:56:53.550892Z",
     "iopub.status.idle": "2024-06-06T22:56:56.449413Z",
     "shell.execute_reply": "2024-06-06T22:56:56.448567Z",
     "shell.execute_reply.started": "2024-06-06T22:56:53.551689Z"
    },
    "id": "08f20abd"
   },
   "outputs": [],
   "source": [
    "# Load spacy models for tokenization\n",
    "try:\n",
    "    spacy_de = spacy.load('de_core_news_sm')\n",
    "except IOError:\n",
    "    os.system(\"python -m spacy download de_core_news_sm\")\n",
    "    spacy_de = spacy.load('de_core_news_sm')\n",
    "\n",
    "try:\n",
    "    spacy_en = spacy.load('en_core_web_sm')\n",
    "except IOError:\n",
    "    os.system(\"python -m spacy download en_core_web_sm\")\n",
    "    spacy_en = spacy.load('en_core_web_sm')\n",
    "\n",
    "def tokenize_de(text):\n",
    "    return [tok.text for tok in spacy_de.tokenizer(text)]\n",
    "\n",
    "def tokenize_en(text):\n",
    "    return [tok.text for tok in spacy_en.tokenizer(text)]\n",
    "\n",
    "def yield_tokens(data_iter, tokenizer, language):\n",
    "    for data_sample in data_iter:\n",
    "        yield tokenizer(data_sample[language])\n",
    "\n",
    "tokenizer_de = get_tokenizer(tokenize_de)\n",
    "tokenizer_en = get_tokenizer(tokenize_en)"
   ]
  },
  {
   "cell_type": "markdown",
   "id": "629742bb",
   "metadata": {
    "id": "e909ce2a"
   },
   "source": [
    "#### Build Vocabularies"
   ]
  },
  {
   "cell_type": "code",
   "execution_count": 17,
   "id": "adbab75d",
   "metadata": {
    "colab": {
     "base_uri": "https://localhost:8080/"
    },
    "execution": {
     "iopub.execute_input": "2024-06-06T22:56:56.451148Z",
     "iopub.status.busy": "2024-06-06T22:56:56.450846Z",
     "iopub.status.idle": "2024-06-06T22:57:02.426128Z",
     "shell.execute_reply": "2024-06-06T22:57:02.425312Z",
     "shell.execute_reply.started": "2024-06-06T22:56:56.451124Z"
    },
    "id": "aed8dff9",
    "outputId": "d40871b5-88a3-4c25-ef62-15cdbf78fd5c"
   },
   "outputs": [
    {
     "name": "stderr",
     "output_type": "stream",
     "text": [
      "/opt/conda/lib/python3.10/site-packages/torch/utils/data/datapipes/iter/combining.py:333: UserWarning: Some child DataPipes are not exhausted when __iter__ is called. We are resetting the buffer and each child DataPipe will read from the start again.\n",
      "  warnings.warn(\"Some child DataPipes are not exhausted when __iter__ is called. We are resetting \"\n"
     ]
    }
   ],
   "source": [
    "train_data, _, _ = Multi30k(split=('train', 'valid', 'test'))\n",
    "vocab_src = build_vocab_from_iterator(yield_tokens(train_data, tokenizer_de, 0),\n",
    "                                      specials=['<unk>', '<pad>', '<bos>', '<eos>'])\n",
    "vocab_tgt = build_vocab_from_iterator(yield_tokens(train_data, tokenizer_en, 1),\n",
    "                                      specials=['<unk>', '<pad>', '<bos>', '<eos>'])\n",
    "\n",
    "vocab_src.set_default_index(vocab_src['<unk>'])\n",
    "vocab_tgt.set_default_index(vocab_tgt['<unk>'])"
   ]
  },
  {
   "cell_type": "markdown",
   "id": "f5907986",
   "metadata": {
    "id": "936560a1"
   },
   "source": [
    "#### Create the Transformer"
   ]
  },
  {
   "cell_type": "code",
   "execution_count": 24,
   "id": "85569ed7",
   "metadata": {
    "execution": {
     "iopub.execute_input": "2024-06-06T22:57:38.082754Z",
     "iopub.status.busy": "2024-06-06T22:57:38.082085Z",
     "iopub.status.idle": "2024-06-06T22:57:39.252635Z",
     "shell.execute_reply": "2024-06-06T22:57:39.251846Z",
     "shell.execute_reply.started": "2024-06-06T22:57:38.082721Z"
    },
    "id": "4c862170"
   },
   "outputs": [],
   "source": [
    "# Define the hyperparameters of the model\n",
    "src_vocab_size = len(vocab_src)  # Size of source vocabulary\n",
    "tgt_vocab_size = len(vocab_tgt)  # Size of target vocabulary\n",
    "d_model = 512  # Embedding dimension\n",
    "N = 6          # Number of encoder and decoder layers\n",
    "num_heads = 8  # Number of attention heads\n",
    "d_ff = 2048    # Dimension of feed forward networks\n",
    "max_seq_length = 5000 # Maximum sequence length\n",
    "dropout = 0.1  # Dropout rate\n",
    "\n",
    "# Assume pad_idx is the padding index in the target vocabulary\n",
    "pad_idx = vocab_tgt['<pad>']\n",
    "\n",
    "# Initialize the Transformer model\n",
    "model = Transformer(src_vocab_size, tgt_vocab_size, d_model, N, num_heads, d_ff, max_seq_length, dropout, pad_idx)\n",
    "\n",
    "# Move the model to the appropriate device (GPU or CPU)\n",
    "device = torch.device('cuda' if torch.cuda.is_available() else 'cpu')\n",
    "model = model.to(device)\n",
    "\n",
    "# Hyperparameters for the training process\n",
    "batch_size = 128\n",
    "grad_clip = 1\n",
    "optimizer = optim.Adam(model.parameters(), lr=0.0001, betas=(0.9, 0.98), eps=1e-9)\n",
    "\n",
    "# Initialize the loss function with CrossEntropyLoss, ignoring the padding index\n",
    "criterion = nn.CrossEntropyLoss(ignore_index=pad_idx)"
   ]
  },
  {
   "cell_type": "markdown",
   "id": "bafbcf13",
   "metadata": {
    "id": "b3d3b94d"
   },
   "source": [
    "#### Data Processing"
   ]
  },
  {
   "cell_type": "code",
   "execution_count": 19,
   "id": "fcef3805",
   "metadata": {
    "execution": {
     "iopub.execute_input": "2024-06-06T22:57:11.560226Z",
     "iopub.status.busy": "2024-06-06T22:57:11.559849Z",
     "iopub.status.idle": "2024-06-06T22:57:16.087035Z",
     "shell.execute_reply": "2024-06-06T22:57:16.086277Z",
     "shell.execute_reply.started": "2024-06-06T22:57:11.560197Z"
    },
    "id": "3ca10d94"
   },
   "outputs": [],
   "source": [
    "def data_process(raw_data_iter):\n",
    "    data = []\n",
    "    for raw_src, raw_tgt in raw_data_iter:\n",
    "        src_tensor = torch.tensor([vocab_src[token] for token in tokenizer_de(raw_src)], dtype=torch.long)\n",
    "        tgt_tensor = torch.tensor([vocab_tgt[token] for token in tokenizer_en(raw_tgt)], dtype=torch.long)\n",
    "        data.append((src_tensor, tgt_tensor))\n",
    "    return data\n",
    "\n",
    "train_data, valid_data, test_data = Multi30k(split=('train', 'valid', 'test'))\n",
    "train_data = data_process(train_data)\n",
    "valid_data = data_process(valid_data)\n",
    "#test_data = data_process(test_data)\n",
    "# The test set of Multi30k is corrupted\n",
    "# See https://discuss.pytorch.org/t/unicodedecodeerror-when-running-test-iterator/192818/3"
   ]
  },
  {
   "cell_type": "code",
   "execution_count": 20,
   "id": "b9606416",
   "metadata": {
    "execution": {
     "iopub.execute_input": "2024-06-06T22:57:16.088845Z",
     "iopub.status.busy": "2024-06-06T22:57:16.088556Z",
     "iopub.status.idle": "2024-06-06T22:57:16.099257Z",
     "shell.execute_reply": "2024-06-06T22:57:16.098367Z",
     "shell.execute_reply.started": "2024-06-06T22:57:16.088822Z"
    },
    "id": "1c2f452a"
   },
   "outputs": [],
   "source": [
    "def generate_batch(data_batch):\n",
    "    \"\"\"Processes a batch of source-target pairs by adding start-of-sequence (BOS) and end-of-sequence (EOS) tokens\n",
    "    to each sequence and padding all sequences to the same length.\n",
    "\n",
    "    Parameters:\n",
    "    - data_batch (Iterable[Tuple[Tensor, Tensor]]): A batch of source-target pairs, where each element is a tuple\n",
    "      containing the source sequence tensor and the target sequence tensor.\n",
    "    \"\"\"\n",
    "    src_batch, tgt_batch = [], []\n",
    "    src_batch, tgt_batch = [], []\n",
    "\n",
    "    # Iterate over each source-target pair in the provided batch\n",
    "    for src_item, tgt_item in data_batch:\n",
    "        # Prepend the start-of-sequence (BOS) token and append the end-of-sequence (EOS) token to the sequences\n",
    "        src_batch.append(torch.cat([torch.tensor([vocab_src['<bos>']]), src_item,\n",
    "                                    torch.tensor([vocab_src['<eos>']])], dim=0))\n",
    "        tgt_batch.append(torch.cat([torch.tensor([vocab_tgt['<bos>']]), tgt_item,\n",
    "                                    torch.tensor([vocab_tgt['<eos>']])], dim=0))\n",
    "\n",
    "    # Pad the sequences in the source batch to ensure they all have the same length.\n",
    "    # 'batch_first=True' indicates that the batch dimension should come first in the resulting tensor.\n",
    "    src_batch = pad_sequence(src_batch, padding_value=vocab_src['<pad>'], batch_first=True)\n",
    "    tgt_batch = pad_sequence(tgt_batch, padding_value=vocab_tgt['<pad>'], batch_first=True)\n",
    "    return src_batch, tgt_batch\n",
    "\n",
    "# DataLoader for the training data, using the generate_batch function as the collate_fn.\n",
    "# This allows custom processing of each batch (adding BOS/EOS tokens and padding) before being fed into the model.\n",
    "train_iterator = DataLoader(train_data, batch_size=batch_size, shuffle=True, collate_fn=generate_batch)\n",
    "\n",
    "# Similarly, DataLoader for the validation data\n",
    "valid_iterator = DataLoader(valid_data, batch_size=batch_size, shuffle=True, collate_fn=generate_batch)"
   ]
  },
  {
   "cell_type": "code",
   "execution_count": 21,
   "id": "7418e57f",
   "metadata": {
    "execution": {
     "iopub.execute_input": "2024-06-06T22:57:16.100595Z",
     "iopub.status.busy": "2024-06-06T22:57:16.100349Z",
     "iopub.status.idle": "2024-06-06T22:57:16.116433Z",
     "shell.execute_reply": "2024-06-06T22:57:16.115519Z",
     "shell.execute_reply.started": "2024-06-06T22:57:16.100575Z"
    },
    "id": "2cbd8431"
   },
   "outputs": [],
   "source": [
    "def train(model, iterator, optimizer, criterion, grad_clip):\n",
    "    \"\"\"\n",
    "    Trains the model for one epoch over the given dataset.\n",
    "    This function iterates over the provided data iterator, performing the forward and backward passes for each batch.\n",
    "    It employs teacher forcing by feeding the shifted target sequence (excluding the last token) as input to the decoder.\n",
    "\n",
    "    Parameters:\n",
    "    - model (torch.nn.Module): The model to be trained.\n",
    "    - iterator (Iterable): An iterable object that returns batches of data.\n",
    "    - optimizer (torch.optim.Optimizer): The optimizer to use for updating the model parameters.\n",
    "    - criterion (Callable): The loss function used to compute the difference between the model's predictions and the actual targets.\n",
    "    - grad_clip (float): The maximum norm of the gradients for gradient clipping.\n",
    "\n",
    "    Returns:\n",
    "    - float: The average loss for the epoch, computed as the total loss over all batches divided by the number of batches in the iterator.\n",
    "    \"\"\"\n",
    "    # Set the model to training mode.\n",
    "    # This enables dropout, layer normalization etc., which behave differently during training.\n",
    "    model.train()\n",
    "\n",
    "    epoch_loss = 0\n",
    "\n",
    "    # Enumerate over the data iterator to get batches\n",
    "    for i, batch in enumerate(iterator):\n",
    "        # Unpack the batch to get source (src) and target (tgt) sequences\n",
    "        src, tgt = batch\n",
    "        src, tgt = src.to(device), tgt.to(device)\n",
    "        optimizer.zero_grad()\n",
    "\n",
    "        # Forward pass through the model.\n",
    "        # For seq2seq models, the decoder input (tgt[:, :-1]) excludes the last token, implementing teacher forcing.\n",
    "        output = model(src, tgt[:, :-1])\n",
    "\n",
    "        # Reshape the output and target tensors to compute loss.\n",
    "        # The output tensor is reshaped to a 2D tensor where rows correspond to each token in the batch and columns to vocabulary size.\n",
    "\n",
    "        # tgt is of shape [batch_size, tgt_len]\n",
    "        # output is of shape [batch_size, tgt_len, tgt_vocab_size]\n",
    "        output = output.contiguous().view(-1, tgt_vocab_size)\n",
    "\n",
    "        # The target tensor is reshaped to a 1D tensor, excluding the first token (BOS) from each sequence.\n",
    "        tgt = tgt[:, 1:].contiguous().view(-1)\n",
    "\n",
    "        # Compute loss, perform backpropagation, and update model parameters\n",
    "        loss = criterion(output, tgt)\n",
    "        loss.backward()\n",
    "        nn.utils.clip_grad_norm_(model.parameters(), grad_clip)\n",
    "        optimizer.step()\n",
    "        epoch_loss += loss.item()\n",
    "\n",
    "    # Compute average loss per batch for the current epoch\n",
    "    return epoch_loss / len(iterator)"
   ]
  },
  {
   "cell_type": "code",
   "execution_count": 22,
   "id": "fef44822",
   "metadata": {
    "execution": {
     "iopub.execute_input": "2024-06-06T22:57:16.118909Z",
     "iopub.status.busy": "2024-06-06T22:57:16.118275Z",
     "iopub.status.idle": "2024-06-06T22:57:16.130213Z",
     "shell.execute_reply": "2024-06-06T22:57:16.129290Z",
     "shell.execute_reply.started": "2024-06-06T22:57:16.118875Z"
    },
    "id": "31d18844"
   },
   "outputs": [],
   "source": [
    "def evaluate(model, iterator, criterion):\n",
    "    \"\"\"\n",
    "    Evaluates the model's performance on a given dataset.\n",
    "    This function is similar to the training loop, but without the backward pass and parameter updates.\n",
    "    \"\"\"\n",
    "    model.eval()\n",
    "    epoch_loss = 0\n",
    "\n",
    "    with torch.no_grad():\n",
    "        for i, batch in enumerate(iterator):\n",
    "            src, tgt = batch\n",
    "            src, tgt = src.to(device), tgt.to(device)\n",
    "            output = model(src, tgt[:, :-1])\n",
    "            output_dim = output.shape[-1]\n",
    "            output = output.contiguous().view(-1, output_dim)\n",
    "            tgt = tgt[:, 1:].contiguous().view(-1)\n",
    "            loss = criterion(output, tgt)\n",
    "            epoch_loss += loss.item()\n",
    "\n",
    "    return epoch_loss / len(iterator)"
   ]
  },
  {
   "cell_type": "markdown",
   "id": "fa1d36dd",
   "metadata": {
    "id": "7ba53f24"
   },
   "source": [
    "#### Training the Model"
   ]
  },
  {
   "cell_type": "code",
   "execution_count": 25,
   "id": "69287936",
   "metadata": {
    "colab": {
     "base_uri": "https://localhost:8080/"
    },
    "execution": {
     "iopub.execute_input": "2024-06-06T22:59:08.341782Z",
     "iopub.status.busy": "2024-06-06T22:59:08.341416Z",
     "iopub.status.idle": "2024-06-06T23:28:20.192143Z",
     "shell.execute_reply": "2024-06-06T23:28:20.191152Z",
     "shell.execute_reply.started": "2024-06-06T22:59:08.341756Z"
    },
    "id": "d02463b8",
    "outputId": "22493d1d-023b-4a3b-f3dd-3aaef09b3de3"
   },
   "outputs": [
    {
     "name": "stdout",
     "output_type": "stream",
     "text": [
      "\n",
      "Epoch: 1\n",
      "\tTrain Loss: 5.702\n",
      "\tVal Loss: 5.013\n",
      "\n",
      "Epoch: 2\n",
      "\tTrain Loss: 4.883\n",
      "\tVal Loss: 4.857\n",
      "\n",
      "Epoch: 3\n",
      "\tTrain Loss: 4.695\n",
      "\tVal Loss: 4.610\n",
      "\n",
      "Epoch: 4\n",
      "\tTrain Loss: 4.421\n",
      "\tVal Loss: 4.254\n",
      "\n",
      "Epoch: 5\n",
      "\tTrain Loss: 4.102\n",
      "\tVal Loss: 4.021\n",
      "\n",
      "Epoch: 6\n",
      "\tTrain Loss: 3.900\n",
      "\tVal Loss: 3.895\n",
      "\n",
      "Epoch: 7\n",
      "\tTrain Loss: 3.754\n",
      "\tVal Loss: 3.773\n",
      "\n",
      "Epoch: 8\n",
      "\tTrain Loss: 3.644\n",
      "\tVal Loss: 3.670\n",
      "\n",
      "Epoch: 9\n",
      "\tTrain Loss: 3.543\n",
      "\tVal Loss: 3.626\n",
      "\n",
      "Epoch: 10\n",
      "\tTrain Loss: 3.463\n",
      "\tVal Loss: 3.556\n",
      "\n",
      "Epoch: 11\n",
      "\tTrain Loss: 3.394\n",
      "\tVal Loss: 3.521\n",
      "\n",
      "Epoch: 12\n",
      "\tTrain Loss: 3.330\n",
      "\tVal Loss: 3.477\n",
      "\n",
      "Epoch: 13\n",
      "\tTrain Loss: 3.272\n",
      "\tVal Loss: 3.449\n",
      "\n",
      "Epoch: 14\n",
      "\tTrain Loss: 3.216\n",
      "\tVal Loss: 3.397\n",
      "\n",
      "Epoch: 15\n",
      "\tTrain Loss: 3.160\n",
      "\tVal Loss: 3.363\n",
      "\n",
      "Epoch: 16\n",
      "\tTrain Loss: 3.106\n",
      "\tVal Loss: 3.320\n",
      "\n",
      "Epoch: 17\n",
      "\tTrain Loss: 3.050\n",
      "\tVal Loss: 3.276\n",
      "\n",
      "Epoch: 18\n",
      "\tTrain Loss: 2.999\n",
      "\tVal Loss: 3.250\n",
      "\n",
      "Epoch: 20\n",
      "\tTrain Loss: 2.896\n",
      "\tVal Loss: 3.196\n"
     ]
    }
   ],
   "source": [
    "n_epochs = 20\n",
    "\n",
    "train_losses_1 = []\n",
    "val_losses_1 = []\n",
    "\n",
    "for epoch in range(n_epochs):\n",
    "    train_loss = train(model, train_iterator, optimizer, criterion, grad_clip)\n",
    "    val_loss = evaluate(model, valid_iterator, criterion)\n",
    "    \n",
    "    train_losses_1.append(train_loss)\n",
    "    val_losses_1.append(val_loss)\n",
    "    \n",
    "    print(f'\\nEpoch: {epoch + 1}')\n",
    "    print(f'\\tTrain Loss: {train_loss:.3f}')\n",
    "    print(f'\\tVal Loss: {val_loss:.3f}')\n",
    "\n",
    "perplexity_1 = float(torch.exp(torch.tensor(val_losses_1[-1])).numpy())\n"
   ]
  },
  {
   "cell_type": "markdown",
   "id": "7ab740a5",
   "metadata": {
    "id": "f7f39e45"
   },
   "source": [
    "The train loss should decrease from around 5.7 to 2.8 after 20 epochs."
   ]
  },
  {
   "cell_type": "code",
   "execution_count": 66,
   "id": "50c041a0",
   "metadata": {
    "execution": {
     "iopub.execute_input": "2024-06-07T01:20:04.959905Z",
     "iopub.status.busy": "2024-06-07T01:20:04.958919Z",
     "iopub.status.idle": "2024-06-07T01:20:06.047568Z",
     "shell.execute_reply": "2024-06-07T01:20:06.046630Z",
     "shell.execute_reply.started": "2024-06-07T01:20:04.959864Z"
    }
   },
   "outputs": [
    {
     "data": {
      "text/plain": [
       "3.1937899589538574"
      ]
     },
     "execution_count": 66,
     "metadata": {},
     "output_type": "execute_result"
    }
   ],
   "source": [
    "evaluate(model, valid_iterator, criterion)"
   ]
  },
  {
   "cell_type": "code",
   "execution_count": 28,
   "id": "986ea95f",
   "metadata": {
    "execution": {
     "iopub.execute_input": "2024-06-06T23:29:36.318250Z",
     "iopub.status.busy": "2024-06-06T23:29:36.317565Z",
     "iopub.status.idle": "2024-06-06T23:29:36.673951Z",
     "shell.execute_reply": "2024-06-06T23:29:36.673018Z",
     "shell.execute_reply.started": "2024-06-06T23:29:36.318217Z"
    }
   },
   "outputs": [
    {
     "data": {
      "image/png": "[encoded data removed]",
      "text/plain": [
       "<Figure size 640x480 with 1 Axes>"
      ]
     },
     "metadata": {},
     "output_type": "display_data"
    }
   ],
   "source": [
    "plt.plot(torch.arange(1, 21), train_losses_1, label='Train Loss')\n",
    "plt.plot(torch.arange(1, 21), val_losses_1, label= 'Val Loss')\n",
    "plt.xlabel('Epochs')\n",
    "plt.ylabel('Loss')\n",
    "plt.title(f'Transformer containing 8 Heads, 6 layers, lr=0.0001, batch_size=128.\\n Perplexity={perplexity_1}')\n",
    "plt.legend(loc=\"upper right\")\n",
    "plt.show();"
   ]
  },
  {
   "cell_type": "markdown",
   "id": "778fa001",
   "metadata": {
    "id": "fc7d30f7"
   },
   "source": [
    "#### Translating a Sample Sentence - Greedy Decoding"
   ]
  },
  {
   "cell_type": "code",
   "execution_count": 50,
   "id": "f2076528",
   "metadata": {
    "execution": {
     "iopub.execute_input": "2024-06-06T23:38:22.089164Z",
     "iopub.status.busy": "2024-06-06T23:38:22.088741Z",
     "iopub.status.idle": "2024-06-06T23:38:22.100269Z",
     "shell.execute_reply": "2024-06-06T23:38:22.099181Z",
     "shell.execute_reply.started": "2024-06-06T23:38:22.089133Z"
    }
   },
   "outputs": [],
   "source": [
    "def translate_sentence(model, sentence, vocab_src, vocab_tgt, max_length=50):\n",
    "    \"\"\"\n",
    "    Translates a given source sentence into the target language using a trained Transformer model.\n",
    "    The function preprocesses the input sentence by tokenizing and converting it to tensor format, then uses the model's\n",
    "    encode and decode methods to generate the translated sentence. The translation process is performed token by token\n",
    "    using greedy decoding, selecting the most likely next token at each step until an <eos> token is produced or the\n",
    "    maximum length is reached.\n",
    "\n",
    "    Parameters:\n",
    "    - model (torch.nn.Module): The trained Transformer model.\n",
    "    - sentence (str): The source sentence to translate.\n",
    "    - vocab_src (dict): The source vocabulary mapping of tokens to indices. It should include special tokens such as\n",
    "      '<bos>' (beginning of sentence) and '<eos>' (end of sentence).\n",
    "    - vocab_tgt (dict): The target vocabulary mapping of indices to tokens. It should provide a method `lookup_token`\n",
    "      to convert token indices back to the string representation.\n",
    "    - max_length (int, optional): The maximum allowed length for the generated translation. The decoding process will\n",
    "      stop when this length is reached if an <eos> token has not yet been generated.\n",
    "\n",
    "    Returns:\n",
    "    - str: The translated sentence as a string of text in the target language.\n",
    "    \"\"\"\n",
    "    ### WRITE YOUR CODE HERE\n",
    "    model.eval()\n",
    "    src_tokens = ['<bos>'] + [token for token in tokenizer_de(sentence)] +  ['<eos>']\n",
    "    src_tensor = torch.tensor([vocab_src[token] for token in src_tokens]).int().unsqueeze(0).to(device)\n",
    "\n",
    "    trg_indexes = [vocab_tgt.get_stoi()['<bos>']]\n",
    "\n",
    "    for i in range(max_length):\n",
    "        trg_tensor = torch.tensor(trg_indexes).int().unsqueeze(0).to(device)\n",
    "\n",
    "        with torch.no_grad():\n",
    "\n",
    "          # generate the logits\n",
    "            logits = model(src_tensor, trg_tensor)\n",
    "\n",
    "            # select the newly predicted token\n",
    "            pred_token = logits.argmax(2)[:,-1].item()\n",
    "\n",
    "            # if <eos> token or max length, stop generating\n",
    "            if pred_token == vocab_tgt.get_stoi()['<eos>'] or i == (max_length-1):\n",
    "\n",
    "                # decoder input\n",
    "                trg_input = vocab_tgt.lookup_tokens(trg_indexes)\n",
    "\n",
    "                # decoder output\n",
    "                trg_output = vocab_tgt.lookup_tokens(logits.argmax(2).squeeze(0).tolist())\n",
    "\n",
    "                return ' '.join(trg_output[:-1])\n",
    "\n",
    "              # else, continue generating\n",
    "            else:\n",
    "            # add the token\n",
    "                trg_indexes.append(pred_token)"
   ]
  },
  {
   "cell_type": "code",
   "execution_count": 51,
   "id": "cc2361f0",
   "metadata": {
    "execution": {
     "iopub.execute_input": "2024-06-06T23:38:23.144905Z",
     "iopub.status.busy": "2024-06-06T23:38:23.143975Z",
     "iopub.status.idle": "2024-06-06T23:38:23.381817Z",
     "shell.execute_reply": "2024-06-06T23:38:23.380828Z",
     "shell.execute_reply.started": "2024-06-06T23:38:23.144875Z"
    }
   },
   "outputs": [
    {
     "name": "stdout",
     "output_type": "stream",
     "text": [
      "Translated sentence: A little boy is playing with a toy in a pool .\n"
     ]
    }
   ],
   "source": [
    "src_sentence = \"Ein kleiner Junge spielt draußen mit einem Ball.\"  # German for \"A little boy playing outside with a ball.\"\n",
    "translated_sentence = translate_sentence(model, src_sentence, vocab_src, vocab_tgt)\n",
    "print(f'Translated sentence: {translated_sentence}')"
   ]
  },
  {
   "cell_type": "code",
   "execution_count": 42,
   "id": "f53fcf7a",
   "metadata": {
    "colab": {
     "base_uri": "https://localhost:8080/"
    },
    "execution": {
     "iopub.execute_input": "2024-06-06T23:33:50.562106Z",
     "iopub.status.busy": "2024-06-06T23:33:50.561788Z",
     "iopub.status.idle": "2024-06-06T23:33:50.706448Z",
     "shell.execute_reply": "2024-06-06T23:33:50.705561Z",
     "shell.execute_reply.started": "2024-06-06T23:33:50.562081Z"
    },
    "id": "baeb62e4",
    "outputId": "44b87e9b-118a-42a0-b02b-8e262d5393b1"
   },
   "outputs": [
    {
     "name": "stdout",
     "output_type": "stream",
     "text": [
      "Translated sentence: A little boy is playing with a toy in a pool\n"
     ]
    }
   ],
   "source": [
    "src_sentence = \"Ein kleiner Junge spielt draußen mit einem Ball.\"  # German for \"A little boy playing outside with a ball.\"\n",
    "translated_sentence = translate_sentence(model, src_sentence, vocab_src, vocab_tgt)\n",
    "print(f'Translated sentence: {translated_sentence}')"
   ]
  },
  {
   "cell_type": "markdown",
   "id": "17adc697",
   "metadata": {
    "id": "26642c2e"
   },
   "source": [
    "You should get a translation similar to the reference after 20 epochs of training."
   ]
  },
  {
   "cell_type": "code",
   "execution_count": 36,
   "id": "47327b6f",
   "metadata": {
    "execution": {
     "iopub.execute_input": "2024-06-06T23:31:32.986033Z",
     "iopub.status.busy": "2024-06-06T23:31:32.985279Z",
     "iopub.status.idle": "2024-06-06T23:31:32.990819Z",
     "shell.execute_reply": "2024-06-06T23:31:32.989807Z",
     "shell.execute_reply.started": "2024-06-06T23:31:32.986000Z"
    }
   },
   "outputs": [],
   "source": [
    "eg_sentences = [('Eine Gruppe von Männern lädt Baumwolle auf einen Lastwagen',\n",
    "  'A group of men are loading cotton onto a truck'),\n",
    " ('Ein Mann schläft in einem grünen Raum auf einem Sofa.',\n",
    "  'A man sleeping in a green room on a couch.'),\n",
    " ('Ein Junge mit Kopfhörern sitzt auf den Schultern einer Frau.',\n",
    "  \"A boy wearing headphones sits on a woman's shoulders.\")]"
   ]
  },
  {
   "cell_type": "code",
   "execution_count": 37,
   "id": "60fe406f",
   "metadata": {
    "execution": {
     "iopub.execute_input": "2024-06-06T23:31:33.350434Z",
     "iopub.status.busy": "2024-06-06T23:31:33.349398Z",
     "iopub.status.idle": "2024-06-06T23:31:33.355501Z",
     "shell.execute_reply": "2024-06-06T23:31:33.354647Z",
     "shell.execute_reply.started": "2024-06-06T23:31:33.350392Z"
    }
   },
   "outputs": [],
   "source": [
    "def translate_egs(model, vocab_src, vocab_tgt):\n",
    "  for sentence, target_sentence in eg_sentences:\n",
    "    translated_sentence = translate_sentence(model, sentence, vocab_src, vocab_tgt)\n",
    "    print(\"Source: \", sentence)\n",
    "    print(\"Target: \", target_sentence)\n",
    "    print(\"Translation: \", translated_sentence)\n",
    "    print()"
   ]
  },
  {
   "cell_type": "code",
   "execution_count": 52,
   "id": "14a557a4",
   "metadata": {
    "execution": {
     "iopub.execute_input": "2024-06-06T23:38:38.618767Z",
     "iopub.status.busy": "2024-06-06T23:38:38.618043Z",
     "iopub.status.idle": "2024-06-06T23:38:39.273813Z",
     "shell.execute_reply": "2024-06-06T23:38:39.272832Z",
     "shell.execute_reply.started": "2024-06-06T23:38:38.618735Z"
    }
   },
   "outputs": [
    {
     "name": "stdout",
     "output_type": "stream",
     "text": [
      "Source:  Eine Gruppe von Männern lädt Baumwolle auf einen Lastwagen\n",
      "Target:  A group of men are loading cotton onto a truck\n",
      "Translation:  A group of people are standing in a city area .\n",
      "\n",
      "Source:  Ein Mann schläft in einem grünen Raum auf einem Sofa.\n",
      "Target:  A man sleeping in a green room on a couch.\n",
      "Translation:  A man and a woman are sitting on a bench .\n",
      "\n",
      "Source:  Ein Junge mit Kopfhörern sitzt auf den Schultern einer Frau.\n",
      "Target:  A boy wearing headphones sits on a woman's shoulders.\n",
      "Translation:  A young boy wearing a red jacket is standing on a bench .\n",
      "\n"
     ]
    }
   ],
   "source": [
    "translate_egs(model, vocab_src, vocab_tgt)"
   ]
  },
  {
   "cell_type": "code",
   "execution_count": 39,
   "id": "209609a3",
   "metadata": {
    "execution": {
     "iopub.execute_input": "2024-06-06T23:32:12.050551Z",
     "iopub.status.busy": "2024-06-06T23:32:12.049685Z",
     "iopub.status.idle": "2024-06-06T23:32:12.056421Z",
     "shell.execute_reply": "2024-06-06T23:32:12.055417Z",
     "shell.execute_reply.started": "2024-06-06T23:32:12.050521Z"
    }
   },
   "outputs": [
    {
     "data": {
      "text/plain": [
       "'/kaggle/working/model_1'"
      ]
     },
     "execution_count": 39,
     "metadata": {},
     "output_type": "execute_result"
    }
   ],
   "source": [
    "import os\n",
    "save_path = os.getcwd() + '/model_' + '1'\n",
    "save_path"
   ]
  },
  {
   "cell_type": "code",
   "execution_count": 40,
   "id": "240b903f",
   "metadata": {
    "execution": {
     "iopub.execute_input": "2024-06-06T23:32:24.474690Z",
     "iopub.status.busy": "2024-06-06T23:32:24.473933Z",
     "iopub.status.idle": "2024-06-06T23:32:24.885351Z",
     "shell.execute_reply": "2024-06-06T23:32:24.884177Z",
     "shell.execute_reply.started": "2024-06-06T23:32:24.474660Z"
    }
   },
   "outputs": [],
   "source": [
    "torch.save(model, save_path)"
   ]
  },
  {
   "cell_type": "markdown",
   "id": "eeec0b61",
   "metadata": {},
   "source": [
    "# Experimenting with different Model Parameters"
   ]
  },
  {
   "cell_type": "code",
   "execution_count": 53,
   "id": "4b220b9c",
   "metadata": {
    "execution": {
     "iopub.execute_input": "2024-06-06T23:38:56.978271Z",
     "iopub.status.busy": "2024-06-06T23:38:56.977501Z",
     "iopub.status.idle": "2024-06-06T23:38:56.988430Z",
     "shell.execute_reply": "2024-06-06T23:38:56.987372Z",
     "shell.execute_reply.started": "2024-06-06T23:38:56.978237Z"
    }
   },
   "outputs": [],
   "source": [
    "def experiment_model(n_heads=8, N=6, lr=0.0001, batch_size=128, n_epochs = 20):\n",
    "  d_ff = 2048    # Dimension of feed forward networks\n",
    "  max_seq_length = 5000 # Maximum sequence length\n",
    "  dropout = 0.1  # Dropout rate\n",
    "\n",
    "  # Assume pad_idx is the padding index in the target vocabulary\n",
    "  pad_idx = vocab_tgt['<pad>']\n",
    "\n",
    "\n",
    "  model = Transformer(src_vocab_size, tgt_vocab_size, d_model, N=N, n_heads=n_heads,\n",
    "                      d_ff=d_ff, max_seq_length=max_seq_length, dropout=dropout, pad_idx=pad_idx)\n",
    "  device = torch.device('cuda' if torch.cuda.is_available() else 'cpu')\n",
    "  model = model.to(device)\n",
    "\n",
    "  grad_clip = 1\n",
    "  optimizer = optim.Adam(model.parameters(), lr=lr, betas=(0.9, 0.98), eps=1e-9)\n",
    "\n",
    "  criterion = nn.CrossEntropyLoss(ignore_index=pad_idx)\n",
    "\n",
    "  train_itr = DataLoader(train_data, batch_size=batch_size, shuffle=True, collate_fn=generate_batch)\n",
    "  valid_itr = DataLoader(valid_data, batch_size=batch_size, shuffle=True, collate_fn=generate_batch)\n",
    "\n",
    "  train_loss_list = []\n",
    "  val_loss_list = []\n",
    "\n",
    "  for epoch in range(n_epochs):\n",
    "      train_loss = train(model, train_itr, optimizer, criterion, grad_clip)\n",
    "      val_loss = evaluate(model, valid_itr, criterion)\n",
    "\n",
    "      print(f'\\nEpoch: {epoch + 1}')\n",
    "      print(f'\\tTrain Loss: {train_loss:.3f}')\n",
    "      print(f'\\tVal Loss: {val_loss:.3f}')\n",
    "\n",
    "      train_loss_list.append(train_loss)\n",
    "      val_loss_list.append(val_loss)\n",
    "\n",
    "  ppl = float(torch.exp(torch.tensor(val_loss_list[-1])).numpy())\n",
    "  return model, train_loss_list, val_loss_list, ppl"
   ]
  },
  {
   "cell_type": "markdown",
   "id": "cd808d79",
   "metadata": {},
   "source": [
    "## Model 2:\n",
    "*   Heads = 16\n",
    "*   Layers = 6\n",
    "*   lr = 0.0001\n",
    "*   batch_size = 128"
   ]
  },
  {
   "cell_type": "code",
   "execution_count": 54,
   "id": "871b71e8",
   "metadata": {
    "execution": {
     "iopub.execute_input": "2024-06-06T23:39:21.602164Z",
     "iopub.status.busy": "2024-06-06T23:39:21.601491Z",
     "iopub.status.idle": "2024-06-07T00:08:31.938343Z",
     "shell.execute_reply": "2024-06-07T00:08:31.937212Z",
     "shell.execute_reply.started": "2024-06-06T23:39:21.602132Z"
    }
   },
   "outputs": [
    {
     "name": "stdout",
     "output_type": "stream",
     "text": [
      "\n",
      "Epoch: 1\n",
      "\tTrain Loss: 5.717\n",
      "\tVal Loss: 5.034\n",
      "\n",
      "Epoch: 2\n",
      "\tTrain Loss: 4.888\n",
      "\tVal Loss: 4.794\n",
      "\n",
      "Epoch: 3\n",
      "\tTrain Loss: 4.702\n",
      "\tVal Loss: 4.667\n",
      "\n",
      "Epoch: 4\n",
      "\tTrain Loss: 4.506\n",
      "\tVal Loss: 4.342\n",
      "\n",
      "Epoch: 5\n",
      "\tTrain Loss: 4.174\n",
      "\tVal Loss: 4.079\n",
      "\n",
      "Epoch: 6\n",
      "\tTrain Loss: 3.957\n",
      "\tVal Loss: 3.930\n",
      "\n",
      "Epoch: 7\n",
      "\tTrain Loss: 3.813\n",
      "\tVal Loss: 3.823\n",
      "\n",
      "Epoch: 8\n",
      "\tTrain Loss: 3.692\n",
      "\tVal Loss: 3.743\n",
      "\n",
      "Epoch: 9\n",
      "\tTrain Loss: 3.583\n",
      "\tVal Loss: 3.656\n",
      "\n",
      "Epoch: 10\n",
      "\tTrain Loss: 3.496\n",
      "\tVal Loss: 3.604\n",
      "\n",
      "Epoch: 11\n",
      "\tTrain Loss: 3.424\n",
      "\tVal Loss: 3.551\n",
      "\n",
      "Epoch: 12\n",
      "\tTrain Loss: 3.357\n",
      "\tVal Loss: 3.503\n",
      "\n",
      "Epoch: 13\n",
      "\tTrain Loss: 3.294\n",
      "\tVal Loss: 3.465\n",
      "\n",
      "Epoch: 14\n",
      "\tTrain Loss: 3.225\n",
      "\tVal Loss: 3.417\n",
      "\n",
      "Epoch: 15\n",
      "\tTrain Loss: 3.163\n",
      "\tVal Loss: 3.371\n",
      "\n",
      "Epoch: 16\n",
      "\tTrain Loss: 3.104\n",
      "\tVal Loss: 3.323\n",
      "\n",
      "Epoch: 17\n",
      "\tTrain Loss: 3.047\n",
      "\tVal Loss: 3.300\n",
      "\n",
      "Epoch: 18\n",
      "\tTrain Loss: 2.994\n",
      "\tVal Loss: 3.266\n",
      "\n",
      "Epoch: 19\n",
      "\tTrain Loss: 2.943\n",
      "\tVal Loss: 3.228\n",
      "\n",
      "Epoch: 20\n",
      "\tTrain Loss: 2.895\n",
      "\tVal Loss: 3.193\n"
     ]
    }
   ],
   "source": [
    "model_2, train_losses_2, val_losses_2, ppl_2 = experiment_model(n_heads=16)"
   ]
  },
  {
   "cell_type": "code",
   "execution_count": 55,
   "id": "abddb181",
   "metadata": {
    "execution": {
     "iopub.execute_input": "2024-06-07T00:09:08.629669Z",
     "iopub.status.busy": "2024-06-07T00:09:08.628899Z",
     "iopub.status.idle": "2024-06-07T00:09:08.934564Z",
     "shell.execute_reply": "2024-06-07T00:09:08.933600Z",
     "shell.execute_reply.started": "2024-06-07T00:09:08.629639Z"
    }
   },
   "outputs": [
    {
     "data": {
      "image/png": "[encoded data removed]",
      "text/plain": [
       "<Figure size 640x480 with 1 Axes>"
      ]
     },
     "metadata": {},
     "output_type": "display_data"
    }
   ],
   "source": [
    "plt.plot(torch.arange(1, 21), train_losses_2, label='Train Loss')\n",
    "plt.plot(torch.arange(1, 21), val_losses_2, label= 'Val Loss')\n",
    "plt.xlabel('Epochs')\n",
    "plt.ylabel('Loss')\n",
    "plt.title(f'Transformer containing 16 Heads, 6 layers, lr=0.0001, batch_size=128.\\n Perplexity={ppl_2}')\n",
    "plt.legend(loc=\"upper right\")\n",
    "plt.show();"
   ]
  },
  {
   "cell_type": "code",
   "execution_count": 56,
   "id": "66066e49",
   "metadata": {
    "execution": {
     "iopub.execute_input": "2024-06-07T00:09:13.574565Z",
     "iopub.status.busy": "2024-06-07T00:09:13.573555Z",
     "iopub.status.idle": "2024-06-07T00:09:13.792420Z",
     "shell.execute_reply": "2024-06-07T00:09:13.791318Z",
     "shell.execute_reply.started": "2024-06-07T00:09:13.574523Z"
    }
   },
   "outputs": [
    {
     "name": "stdout",
     "output_type": "stream",
     "text": [
      "Model 2 Translated sentence: A young boy is playing with a toy ball .\n"
     ]
    }
   ],
   "source": [
    "src_sentence = \"Ein kleiner Junge spielt draußen mit einem Ball.\"  # German for \"A little boy playing outside with a ball.\"\n",
    "translated_sentence_2 = translate_sentence(model_2, src_sentence, vocab_src, vocab_tgt)\n",
    "print(f'Model 2 Translated sentence: {translated_sentence_2}')"
   ]
  },
  {
   "cell_type": "code",
   "execution_count": 57,
   "id": "7b982682",
   "metadata": {
    "execution": {
     "iopub.execute_input": "2024-06-07T00:09:18.477627Z",
     "iopub.status.busy": "2024-06-07T00:09:18.476999Z",
     "iopub.status.idle": "2024-06-07T00:09:19.114010Z",
     "shell.execute_reply": "2024-06-07T00:09:19.113028Z",
     "shell.execute_reply.started": "2024-06-07T00:09:18.477597Z"
    }
   },
   "outputs": [
    {
     "name": "stdout",
     "output_type": "stream",
     "text": [
      "Source:  Eine Gruppe von Männern lädt Baumwolle auf einen Lastwagen\n",
      "Target:  A group of men are loading cotton onto a truck\n",
      "Translation:  A group of people are walking down a street .\n",
      "\n",
      "Source:  Ein Mann schläft in einem grünen Raum auf einem Sofa.\n",
      "Target:  A man sleeping in a green room on a couch.\n",
      "Translation:  A man and a woman are sitting on a bench .\n",
      "\n",
      "Source:  Ein Junge mit Kopfhörern sitzt auf den Schultern einer Frau.\n",
      "Target:  A boy wearing headphones sits on a woman's shoulders.\n",
      "Translation:  A young boy is sitting on a bench with a red bag .\n",
      "\n"
     ]
    }
   ],
   "source": [
    "translate_egs(model_2, vocab_src, vocab_tgt)"
   ]
  },
  {
   "cell_type": "markdown",
   "id": "e2beac6c",
   "metadata": {},
   "source": [
    "## Model 3:\n",
    "*   Heads = 8\n",
    "*   Layers = 8\n",
    "*   lr = 0.0001\n",
    "*   batch_size = 128"
   ]
  },
  {
   "cell_type": "code",
   "execution_count": 58,
   "id": "b770ff76",
   "metadata": {
    "execution": {
     "iopub.execute_input": "2024-06-07T00:12:07.294801Z",
     "iopub.status.busy": "2024-06-07T00:12:07.294367Z",
     "iopub.status.idle": "2024-06-07T00:49:36.533599Z",
     "shell.execute_reply": "2024-06-07T00:49:36.532344Z",
     "shell.execute_reply.started": "2024-06-07T00:12:07.294772Z"
    }
   },
   "outputs": [
    {
     "name": "stdout",
     "output_type": "stream",
     "text": [
      "\n",
      "Epoch: 1\n",
      "\tTrain Loss: 5.878\n",
      "\tVal Loss: 5.206\n",
      "\n",
      "Epoch: 2\n",
      "\tTrain Loss: 5.180\n",
      "\tVal Loss: 5.153\n",
      "\n",
      "Epoch: 3\n",
      "\tTrain Loss: 5.118\n",
      "\tVal Loss: 5.171\n",
      "\n",
      "Epoch: 4\n",
      "\tTrain Loss: 5.065\n",
      "\tVal Loss: 5.252\n",
      "\n",
      "Epoch: 5\n",
      "\tTrain Loss: 4.976\n",
      "\tVal Loss: 5.522\n",
      "\n",
      "Epoch: 6\n",
      "\tTrain Loss: 4.933\n",
      "\tVal Loss: 5.714\n",
      "\n",
      "Epoch: 7\n",
      "\tTrain Loss: 4.915\n",
      "\tVal Loss: 5.706\n",
      "\n",
      "Epoch: 8\n",
      "\tTrain Loss: 4.895\n",
      "\tVal Loss: 5.588\n",
      "\n",
      "Epoch: 9\n",
      "\tTrain Loss: 4.868\n",
      "\tVal Loss: 5.984\n",
      "\n",
      "Epoch: 10\n",
      "\tTrain Loss: 4.805\n",
      "\tVal Loss: 5.358\n",
      "\n",
      "Epoch: 11\n",
      "\tTrain Loss: 4.741\n",
      "\tVal Loss: 5.622\n",
      "\n",
      "Epoch: 12\n",
      "\tTrain Loss: 4.684\n",
      "\tVal Loss: 5.667\n",
      "\n",
      "Epoch: 13\n",
      "\tTrain Loss: 4.661\n",
      "\tVal Loss: 5.737\n",
      "\n",
      "Epoch: 14\n",
      "\tTrain Loss: 4.635\n",
      "\tVal Loss: 5.741\n",
      "\n",
      "Epoch: 15\n",
      "\tTrain Loss: 4.626\n",
      "\tVal Loss: 5.617\n",
      "\n",
      "Epoch: 16\n",
      "\tTrain Loss: 4.599\n",
      "\tVal Loss: 5.816\n",
      "\n",
      "Epoch: 17\n",
      "\tTrain Loss: 4.581\n",
      "\tVal Loss: 5.735\n",
      "\n",
      "Epoch: 18\n",
      "\tTrain Loss: 4.565\n",
      "\tVal Loss: 5.874\n",
      "\n",
      "Epoch: 19\n",
      "\tTrain Loss: 4.547\n",
      "\tVal Loss: 5.719\n",
      "\n",
      "Epoch: 20\n",
      "\tTrain Loss: 4.552\n",
      "\tVal Loss: 6.498\n"
     ]
    }
   ],
   "source": [
    "model_3, train_losses_3, val_losses_3, ppl_3 = experiment_model(N=8)"
   ]
  },
  {
   "cell_type": "code",
   "execution_count": 59,
   "id": "04451aff",
   "metadata": {
    "execution": {
     "iopub.execute_input": "2024-06-07T00:49:36.536377Z",
     "iopub.status.busy": "2024-06-07T00:49:36.535976Z",
     "iopub.status.idle": "2024-06-07T00:49:36.888899Z",
     "shell.execute_reply": "2024-06-07T00:49:36.887967Z",
     "shell.execute_reply.started": "2024-06-07T00:49:36.536346Z"
    },
    "id": "LL0DJN9d8By5"
   },
   "outputs": [
    {
     "data": {
      "image/png": "[encoded data removed]",
      "text/plain": [
       "<Figure size 640x480 with 1 Axes>"
      ]
     },
     "metadata": {},
     "output_type": "display_data"
    }
   ],
   "source": [
    "plt.plot(torch.arange(1, 21), train_losses_3, label='Train Loss')\n",
    "plt.plot(torch.arange(1, 21), val_losses_3, label= 'Val Loss')\n",
    "plt.xlabel('Epochs')\n",
    "plt.ylabel('Loss')\n",
    "plt.title(f'Transformer containing 8 Heads, 8 layers, lr=0.0001, batch_size=128.\\n Perplexity={ppl_3}')\n",
    "plt.legend(loc=\"upper right\")\n",
    "plt.show();"
   ]
  },
  {
   "cell_type": "code",
   "execution_count": 60,
   "id": "580dc31c",
   "metadata": {
    "execution": {
     "iopub.execute_input": "2024-06-07T00:49:36.890352Z",
     "iopub.status.busy": "2024-06-07T00:49:36.890057Z",
     "iopub.status.idle": "2024-06-07T00:49:37.123545Z",
     "shell.execute_reply": "2024-06-07T00:49:37.122603Z",
     "shell.execute_reply.started": "2024-06-07T00:49:36.890328Z"
    }
   },
   "outputs": [
    {
     "name": "stdout",
     "output_type": "stream",
     "text": [
      "Model 3 Translated sentence: A A A A a a a a . .\n"
     ]
    }
   ],
   "source": [
    "src_sentence = \"Ein kleiner Junge spielt draußen mit einem Ball.\"  # German for \"A little boy playing outside with a ball.\"\n",
    "translated_sentence_3 = translate_sentence(model_3, src_sentence, vocab_src, vocab_tgt)\n",
    "print(f'Model 3 Translated sentence: {translated_sentence_3}')"
   ]
  },
  {
   "cell_type": "code",
   "execution_count": 61,
   "id": "4ab142ef",
   "metadata": {
    "execution": {
     "iopub.execute_input": "2024-06-07T00:49:37.126550Z",
     "iopub.status.busy": "2024-06-07T00:49:37.126163Z",
     "iopub.status.idle": "2024-06-07T00:49:37.885347Z",
     "shell.execute_reply": "2024-06-07T00:49:37.884424Z",
     "shell.execute_reply.started": "2024-06-07T00:49:37.126516Z"
    }
   },
   "outputs": [
    {
     "name": "stdout",
     "output_type": "stream",
     "text": [
      "Source:  Eine Gruppe von Männern lädt Baumwolle auf einen Lastwagen\n",
      "Target:  A group of men are loading cotton onto a truck\n",
      "Translation:  A A A A are are a a .\n",
      "\n",
      "Source:  Ein Mann schläft in einem grünen Raum auf einem Sofa.\n",
      "Target:  A man sleeping in a green room on a couch.\n",
      "Translation:  A A A A a a a a a a . .\n",
      "\n",
      "Source:  Ein Junge mit Kopfhörern sitzt auf den Schultern einer Frau.\n",
      "Target:  A boy wearing headphones sits on a woman's shoulders.\n",
      "Translation:  A A A A woman is is a a a a . .\n",
      "\n"
     ]
    }
   ],
   "source": [
    "translate_egs(model_3, vocab_src, vocab_tgt)"
   ]
  },
  {
   "cell_type": "markdown",
   "id": "ec4dea26",
   "metadata": {},
   "source": [
    "## Model 4:\n",
    "*   Heads = 8\n",
    "*   Layers = 6\n",
    "*   lr = 0.001\n",
    "*   batch_size = 64"
   ]
  },
  {
   "cell_type": "code",
   "execution_count": 62,
   "id": "31764740",
   "metadata": {
    "execution": {
     "iopub.execute_input": "2024-06-07T00:49:37.887085Z",
     "iopub.status.busy": "2024-06-07T00:49:37.886793Z",
     "iopub.status.idle": "2024-06-07T01:19:06.874869Z",
     "shell.execute_reply": "2024-06-07T01:19:06.873859Z",
     "shell.execute_reply.started": "2024-06-07T00:49:37.887061Z"
    }
   },
   "outputs": [
    {
     "name": "stdout",
     "output_type": "stream",
     "text": [
      "\n",
      "Epoch: 1\n",
      "\tTrain Loss: 5.744\n",
      "\tVal Loss: 6.694\n",
      "\n",
      "Epoch: 2\n",
      "\tTrain Loss: 5.326\n",
      "\tVal Loss: 11.725\n",
      "\n",
      "Epoch: 3\n",
      "\tTrain Loss: 5.236\n",
      "\tVal Loss: 12.805\n",
      "\n",
      "Epoch: 4\n",
      "\tTrain Loss: 5.201\n",
      "\tVal Loss: 12.030\n",
      "\n",
      "Epoch: 5\n",
      "\tTrain Loss: 5.185\n",
      "\tVal Loss: 11.413\n",
      "\n",
      "Epoch: 6\n",
      "\tTrain Loss: 5.174\n",
      "\tVal Loss: 12.148\n",
      "\n",
      "Epoch: 7\n",
      "\tTrain Loss: 5.157\n",
      "\tVal Loss: 12.411\n",
      "\n",
      "Epoch: 8\n",
      "\tTrain Loss: 5.146\n",
      "\tVal Loss: 13.407\n",
      "\n",
      "Epoch: 9\n",
      "\tTrain Loss: 5.143\n",
      "\tVal Loss: 11.935\n",
      "\n",
      "Epoch: 10\n",
      "\tTrain Loss: 5.136\n",
      "\tVal Loss: 11.932\n",
      "\n",
      "Epoch: 11\n",
      "\tTrain Loss: 5.127\n",
      "\tVal Loss: 12.310\n",
      "\n",
      "Epoch: 12\n",
      "\tTrain Loss: 5.126\n",
      "\tVal Loss: 12.436\n",
      "\n",
      "Epoch: 13\n",
      "\tTrain Loss: 5.124\n",
      "\tVal Loss: 13.233\n",
      "\n",
      "Epoch: 14\n",
      "\tTrain Loss: 5.114\n",
      "\tVal Loss: 13.403\n",
      "\n",
      "Epoch: 15\n",
      "\tTrain Loss: 5.111\n",
      "\tVal Loss: 13.672\n",
      "\n",
      "Epoch: 16\n",
      "\tTrain Loss: 5.106\n",
      "\tVal Loss: 13.712\n",
      "\n",
      "Epoch: 17\n",
      "\tTrain Loss: 5.110\n",
      "\tVal Loss: 13.430\n",
      "\n",
      "Epoch: 18\n",
      "\tTrain Loss: 5.104\n",
      "\tVal Loss: 13.872\n",
      "\n",
      "Epoch: 19\n",
      "\tTrain Loss: 5.100\n",
      "\tVal Loss: 13.907\n",
      "\n",
      "Epoch: 20\n",
      "\tTrain Loss: 5.098\n",
      "\tVal Loss: 12.962\n"
     ]
    }
   ],
   "source": [
    "model_4, train_losses_4, val_losses_4, ppl_4 = experiment_model(lr=0.001, batch_size = 64)"
   ]
  },
  {
   "cell_type": "code",
   "execution_count": 63,
   "id": "476d93b8",
   "metadata": {
    "execution": {
     "iopub.execute_input": "2024-06-07T01:19:06.876747Z",
     "iopub.status.busy": "2024-06-07T01:19:06.876451Z",
     "iopub.status.idle": "2024-06-07T01:19:07.165332Z",
     "shell.execute_reply": "2024-06-07T01:19:07.164411Z",
     "shell.execute_reply.started": "2024-06-07T01:19:06.876724Z"
    }
   },
   "outputs": [
    {
     "data": {
      "image/png": "[encoded data removed]",
      "text/plain": [
       "<Figure size 640x480 with 1 Axes>"
      ]
     },
     "metadata": {},
     "output_type": "display_data"
    }
   ],
   "source": [
    "plt.plot(torch.arange(1, 21), train_losses_4, label='Train Loss')\n",
    "plt.plot(torch.arange(1, 21), val_losses_4, label= 'Val Loss')\n",
    "plt.xlabel('Epochs')\n",
    "plt.ylabel('Loss')\n",
    "plt.title(f'Transformer containing 8 Heads, 6 layers, lr=0.001, batch_size=64.\\n Perplexity={ppl_4}')\n",
    "plt.legend(loc=\"upper right\")\n",
    "plt.show();"
   ]
  },
  {
   "cell_type": "code",
   "execution_count": 64,
   "id": "c7afea4b",
   "metadata": {
    "execution": {
     "iopub.execute_input": "2024-06-07T01:19:07.166664Z",
     "iopub.status.busy": "2024-06-07T01:19:07.166389Z",
     "iopub.status.idle": "2024-06-07T01:19:08.014279Z",
     "shell.execute_reply": "2024-06-07T01:19:08.013330Z",
     "shell.execute_reply.started": "2024-06-07T01:19:07.166640Z"
    }
   },
   "outputs": [
    {
     "name": "stdout",
     "output_type": "stream",
     "text": [
      "Model 4 Translated sentence: A A A A A A A A A A A A A A A A A A A A A A A A A A A A A A A A A A A A A A A A A A A A A A A A A\n"
     ]
    }
   ],
   "source": [
    "src_sentence = \"Ein kleiner Junge spielt draußen mit einem Ball.\"  # German for \"A little boy playing outside with a ball.\"\n",
    "translated_sentence_4 = translate_sentence(model_4, src_sentence, vocab_src, vocab_tgt)\n",
    "print(f'Model 4 Translated sentence: {translated_sentence_4}')"
   ]
  },
  {
   "cell_type": "code",
   "execution_count": 65,
   "id": "79f1142c",
   "metadata": {
    "execution": {
     "iopub.execute_input": "2024-06-07T01:19:08.016210Z",
     "iopub.status.busy": "2024-06-07T01:19:08.015830Z",
     "iopub.status.idle": "2024-06-07T01:19:10.527126Z",
     "shell.execute_reply": "2024-06-07T01:19:10.526184Z",
     "shell.execute_reply.started": "2024-06-07T01:19:08.016178Z"
    }
   },
   "outputs": [
    {
     "name": "stdout",
     "output_type": "stream",
     "text": [
      "Source:  Eine Gruppe von Männern lädt Baumwolle auf einen Lastwagen\n",
      "Target:  A group of men are loading cotton onto a truck\n",
      "Translation:  A A A A A A A A A A A A A A A A A A A A A A A A A A A A A A A A A A A A A A A A A A A A A A A A A\n",
      "\n",
      "Source:  Ein Mann schläft in einem grünen Raum auf einem Sofa.\n",
      "Target:  A man sleeping in a green room on a couch.\n",
      "Translation:  A A A A A A A A A A A A A A A A A A A A A A A A A A A A A A A A A A A A A A A A A A A A A A A A A\n",
      "\n",
      "Source:  Ein Junge mit Kopfhörern sitzt auf den Schultern einer Frau.\n",
      "Target:  A boy wearing headphones sits on a woman's shoulders.\n",
      "Translation:  A A A A A A A A A A A A A A A A A A A A A A A A A A A A A A A A A A A A A A A A A A A A A A A A A\n",
      "\n"
     ]
    }
   ],
   "source": [
    "translate_egs(model_4, vocab_src, vocab_tgt)"
   ]
  },
  {
   "cell_type": "markdown",
   "id": "2b8b956d",
   "metadata": {},
   "source": [
    "## Results\n",
    " - Comparing the four models, it is evident that increasing the number of layers or the learning rate causes the models to overfit, resulting in poor translation quality.\n",
    " - Comparing Model 1 and Model 2, increasing the number of heads in Model 2 results in a slight decrease in perplexity. However, this increase in complexity does not seem to provide significant benefits."
   ]
  },
  {
   "cell_type": "code",
   "execution_count": null,
   "id": "f066ade2",
   "metadata": {},
   "outputs": [],
   "source": []
  }
 ],
 "metadata": {
  "accelerator": "GPU",
  "colab": {
   "gpuType": "T4",
   "provenance": []
  },
  "kaggle": {
   "accelerator": "nvidiaTeslaT4",
   "dataSources": [],
   "dockerImageVersionId": 30733,
   "isGpuEnabled": true,
   "isInternetEnabled": true,
   "language": "python",
   "sourceType": "notebook"
  },
  "kernelspec": {
   "display_name": "Python 3 (ipykernel)",
   "language": "python",
   "name": "python3"
  },
  "language_info": {
   "codemirror_mode": {
    "name": "ipython",
    "version": 3
   },
   "file_extension": ".py",
   "mimetype": "text/x-python",
   "name": "python",
   "nbconvert_exporter": "python",
   "pygments_lexer": "ipython3",
   "version": "3.7.3"
  }
 },
 "nbformat": 4,
 "nbformat_minor": 5
}
